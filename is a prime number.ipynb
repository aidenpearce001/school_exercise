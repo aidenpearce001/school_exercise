{
 "cells": [
  {
   "cell_type": "code",
   "execution_count": 24,
   "metadata": {},
   "outputs": [
    {
     "name": "stdout",
     "output_type": "stream",
     "text": [
      "Enter a number: 19\n",
      "19 is a prime number\n",
      "True\n"
     ]
    }
   ],
   "source": [
    "import math\n",
    "\n",
    "def primeFactors(n): \n",
    "    global factors\n",
    "    factors=[]\n",
    "    for i in range(1, n + 1):\n",
    "        if n % i == 0:\n",
    "            factors.append(i)\n",
    "    return factors\n",
    "\n",
    "num = int(input(\"Enter a number: \"))  \n",
    "index = 3\n",
    "FactorNotFound = None\n",
    "\n",
    "if num <2:\n",
    "    print(str(num) +' is not a prime number')\n",
    "elif num == 2:\n",
    "    print(str(num) +' is a prime number')\n",
    "elif (num % 2) == 0:\n",
    "    print(str(num) +' is not a prime number')\n",
    "else: \n",
    "    FactorNotFound = True\n",
    "    for i in range(2,num):  \n",
    "        if (num % i) == 0:  \n",
    "            while FactorNotFound == True and index < math.sqrt(num):\n",
    "                if index in primeFactors(num):\n",
    "                    FactorNotFound = False\n",
    "                else:\n",
    "                    index = index + 2\n",
    "            print(num,\"is not a prime number\")\n",
    "            break\n",
    "    else:  \n",
    "        print(num,\"is a prime number\")  \n",
    "print(FactorNotFound)\n",
    "if FactorNotFound == False:\n",
    "    print(factors)"
   ]
  },
  {
   "cell_type": "code",
   "execution_count": null,
   "metadata": {},
   "outputs": [],
   "source": []
  },
  {
   "cell_type": "code",
   "execution_count": null,
   "metadata": {},
   "outputs": [],
   "source": []
  }
 ],
 "metadata": {
  "kernelspec": {
   "display_name": "Python 3",
   "language": "python",
   "name": "python3"
  },
  "language_info": {
   "codemirror_mode": {
    "name": "ipython",
    "version": 3
   },
   "file_extension": ".py",
   "mimetype": "text/x-python",
   "name": "python",
   "nbconvert_exporter": "python",
   "pygments_lexer": "ipython3",
   "version": "3.7.6"
  }
 },
 "nbformat": 4,
 "nbformat_minor": 4
}
